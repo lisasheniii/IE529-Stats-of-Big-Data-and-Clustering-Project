{
 "cells": [
  {
   "cell_type": "code",
   "execution_count": 2,
   "metadata": {},
   "outputs": [
    {
     "name": "stderr",
     "output_type": "stream",
     "text": [
      "/Users/apple/anaconda3/lib/python3.7/site-packages/pandas/compat/_optional.py:138: UserWarning: Pandas requires version '2.7.0' or newer of 'numexpr' (version '2.6.9' currently installed).\n",
      "  warnings.warn(msg, UserWarning)\n",
      "/Users/apple/anaconda3/lib/python3.7/site-packages/sklearn/linear_model/least_angle.py:30: DeprecationWarning: `np.float` is a deprecated alias for the builtin `float`. To silence this warning, use `float` by itself. Doing this will not modify any behavior and is safe. If you specifically wanted the numpy scalar type, use `np.float64` here.\n",
      "Deprecated in NumPy 1.20; for more details and guidance: https://numpy.org/devdocs/release/1.20.0-notes.html#deprecations\n",
      "  method='lar', copy_X=True, eps=np.finfo(np.float).eps,\n",
      "/Users/apple/anaconda3/lib/python3.7/site-packages/sklearn/linear_model/least_angle.py:167: DeprecationWarning: `np.float` is a deprecated alias for the builtin `float`. To silence this warning, use `float` by itself. Doing this will not modify any behavior and is safe. If you specifically wanted the numpy scalar type, use `np.float64` here.\n",
      "Deprecated in NumPy 1.20; for more details and guidance: https://numpy.org/devdocs/release/1.20.0-notes.html#deprecations\n",
      "  method='lar', copy_X=True, eps=np.finfo(np.float).eps,\n",
      "/Users/apple/anaconda3/lib/python3.7/site-packages/sklearn/linear_model/least_angle.py:284: DeprecationWarning: `np.float` is a deprecated alias for the builtin `float`. To silence this warning, use `float` by itself. Doing this will not modify any behavior and is safe. If you specifically wanted the numpy scalar type, use `np.float64` here.\n",
      "Deprecated in NumPy 1.20; for more details and guidance: https://numpy.org/devdocs/release/1.20.0-notes.html#deprecations\n",
      "  eps=np.finfo(np.float).eps, copy_Gram=True, verbose=0,\n",
      "/Users/apple/anaconda3/lib/python3.7/site-packages/sklearn/linear_model/least_angle.py:862: DeprecationWarning: `np.float` is a deprecated alias for the builtin `float`. To silence this warning, use `float` by itself. Doing this will not modify any behavior and is safe. If you specifically wanted the numpy scalar type, use `np.float64` here.\n",
      "Deprecated in NumPy 1.20; for more details and guidance: https://numpy.org/devdocs/release/1.20.0-notes.html#deprecations\n",
      "  eps=np.finfo(np.float).eps, copy_X=True, fit_path=True,\n",
      "/Users/apple/anaconda3/lib/python3.7/site-packages/sklearn/linear_model/least_angle.py:1101: DeprecationWarning: `np.float` is a deprecated alias for the builtin `float`. To silence this warning, use `float` by itself. Doing this will not modify any behavior and is safe. If you specifically wanted the numpy scalar type, use `np.float64` here.\n",
      "Deprecated in NumPy 1.20; for more details and guidance: https://numpy.org/devdocs/release/1.20.0-notes.html#deprecations\n",
      "  eps=np.finfo(np.float).eps, copy_X=True, fit_path=True,\n",
      "/Users/apple/anaconda3/lib/python3.7/site-packages/sklearn/linear_model/least_angle.py:1127: DeprecationWarning: `np.float` is a deprecated alias for the builtin `float`. To silence this warning, use `float` by itself. Doing this will not modify any behavior and is safe. If you specifically wanted the numpy scalar type, use `np.float64` here.\n",
      "Deprecated in NumPy 1.20; for more details and guidance: https://numpy.org/devdocs/release/1.20.0-notes.html#deprecations\n",
      "  eps=np.finfo(np.float).eps, positive=False):\n",
      "/Users/apple/anaconda3/lib/python3.7/site-packages/sklearn/linear_model/least_angle.py:1362: DeprecationWarning: `np.float` is a deprecated alias for the builtin `float`. To silence this warning, use `float` by itself. Doing this will not modify any behavior and is safe. If you specifically wanted the numpy scalar type, use `np.float64` here.\n",
      "Deprecated in NumPy 1.20; for more details and guidance: https://numpy.org/devdocs/release/1.20.0-notes.html#deprecations\n",
      "  max_n_alphas=1000, n_jobs=None, eps=np.finfo(np.float).eps,\n",
      "/Users/apple/anaconda3/lib/python3.7/site-packages/sklearn/linear_model/least_angle.py:1602: DeprecationWarning: `np.float` is a deprecated alias for the builtin `float`. To silence this warning, use `float` by itself. Doing this will not modify any behavior and is safe. If you specifically wanted the numpy scalar type, use `np.float64` here.\n",
      "Deprecated in NumPy 1.20; for more details and guidance: https://numpy.org/devdocs/release/1.20.0-notes.html#deprecations\n",
      "  max_n_alphas=1000, n_jobs=None, eps=np.finfo(np.float).eps,\n",
      "/Users/apple/anaconda3/lib/python3.7/site-packages/sklearn/linear_model/least_angle.py:1738: DeprecationWarning: `np.float` is a deprecated alias for the builtin `float`. To silence this warning, use `float` by itself. Doing this will not modify any behavior and is safe. If you specifically wanted the numpy scalar type, use `np.float64` here.\n",
      "Deprecated in NumPy 1.20; for more details and guidance: https://numpy.org/devdocs/release/1.20.0-notes.html#deprecations\n",
      "  eps=np.finfo(np.float).eps, copy_X=True, positive=False):\n",
      "/Users/apple/anaconda3/lib/python3.7/site-packages/sklearn/decomposition/online_lda.py:29: DeprecationWarning: `np.float` is a deprecated alias for the builtin `float`. To silence this warning, use `float` by itself. Doing this will not modify any behavior and is safe. If you specifically wanted the numpy scalar type, use `np.float64` here.\n",
      "Deprecated in NumPy 1.20; for more details and guidance: https://numpy.org/devdocs/release/1.20.0-notes.html#deprecations\n",
      "  EPS = np.finfo(np.float).eps\n"
     ]
    }
   ],
   "source": [
    "import numpy as np\n",
    "import pandas as pd\n",
    "import random\n",
    "import matplotlib.pyplot as plt\n",
    "import sys\n",
    "from copy import deepcopy\n",
    "\n",
    "#from sklearn.cluster import SpectralClustering\n",
    "#from sklearn.preprocessing import StandardScaler, normalize\n",
    "from sklearn.decomposition import PCA\n",
    "#from sklearn.metrics import silhouette_score\n",
    "from sklearn.neighbors import NearestNeighbors\n",
    "import numpy as np"
   ]
  },
  {
   "cell_type": "code",
   "execution_count": 3,
   "metadata": {},
   "outputs": [],
   "source": [
    "import math\n",
    "from sklearn.neighbors import kneighbors_graph"
   ]
  },
  {
   "cell_type": "code",
   "execution_count": 4,
   "metadata": {},
   "outputs": [],
   "source": [
    "clustering = pd.read_csv('clustering.csv',header=None)\n",
    "shape = pd.read_csv('ShapedData.csv',header=None)\n",
    "\n",
    "data_1=np.array(clustering)\n",
    "data_2=np.array(shape)"
   ]
  },
  {
   "cell_type": "code",
   "execution_count": 5,
   "metadata": {},
   "outputs": [],
   "source": [
    "def dist(a,b):\n",
    "    return np.linalg.norm(a-b)"
   ]
  },
  {
   "cell_type": "code",
   "execution_count": 6,
   "metadata": {},
   "outputs": [],
   "source": [
    "# Gaussian Similarity Function\n",
    "def Gaussian_Similarity(x1,x2,sigma):\n",
    "    return math.exp(-(dist(x1,x2))/(2*(sigma**2)))"
   ]
  },
  {
   "cell_type": "code",
   "execution_count": 7,
   "metadata": {},
   "outputs": [],
   "source": [
    "# Similarity Matrix\n",
    "def Similarity_Matrix(X,sigma):\n",
    "    \n",
    "    N,d = X.shape\n",
    "    S = np.zeros((N,N))\n",
    "    \n",
    "    for i in range (N):\n",
    "        for j in range (i,N):\n",
    "            s = Gaussian_Similarity(X[i],X[j],sigma)\n",
    "            S[i][j]=s\n",
    "            S[j][i]=s\n",
    "    \n",
    "    return S"
   ]
  },
  {
   "cell_type": "code",
   "execution_count": null,
   "metadata": {},
   "outputs": [],
   "source": []
  },
  {
   "cell_type": "code",
   "execution_count": 49,
   "metadata": {},
   "outputs": [
    {
     "data": {
      "text/plain": [
       "8.734155858027599e-05"
      ]
     },
     "execution_count": 49,
     "metadata": {},
     "output_type": "execute_result"
    }
   ],
   "source": [
    "# Test\n",
    "S=Similarity_Matrix(data_1,0.5)\n",
    "S[10][1999]\n",
    "\n",
    "dist(data_1[10],data_1[1999])\n",
    "\n",
    "Gaussian_Similarity(data_1[0], data_1[1], 0.5)\n",
    "\n",
    "# TEST\n",
    "N,d = data_1.shape\n",
    "S = np.zeros((N,N)) # Gaussian Similarity matrix (euclidean) \n",
    "W = np.zeros((N,N)) # adjacency matrix\n",
    "\n",
    "\"\"\"\n",
    "Similarity: store the similarity score between each data point\n",
    "\"\"\"\n",
    "for i in range (N):\n",
    "    for j in range (i,N):\n",
    "        s = Gaussian_Similarity(data_1[i],data_1[j],0.5)\n",
    "        S[i][j]=s\n",
    "        S[j][i]=s\n",
    "        \n",
    "S[10][1999]"
   ]
  },
  {
   "cell_type": "code",
   "execution_count": 56,
   "metadata": {},
   "outputs": [
    {
     "name": "stdout",
     "output_type": "stream",
     "text": [
      "[1728 1766 1736 ...    6    3    0] [7.87303880e-08 1.48797382e-07 1.65555366e-07 1.65637998e-07\n",
      " 1.66558979e-07]\n"
     ]
    }
   ],
   "source": [
    "result = np.argpartition(S[0], 5)\n",
    "result\n",
    "print(result,S[0][result[:5]])"
   ]
  },
  {
   "cell_type": "code",
   "execution_count": null,
   "metadata": {},
   "outputs": [],
   "source": [
    "#Incomplete\n",
    "def KNN(X,k):\n",
    "    \n",
    "    N,d = X.shape\n",
    "    D = np.zeros((N,N))\n",
    "    \n",
    "    \"\"\"\n",
    "    Calculate and store the euclidean distance between each data point to [D]\n",
    "    \"\"\"\n",
    "    for i in range(N):\n",
    "        for j in range (i,N):\n",
    "        euclidean = dist(X[i],X[j])\n",
    "        D[i][j]=euclidean\n",
    "        D[j][i]=euclidean\n",
    "        \n",
    "    for z in range(N):\n",
    "        r1 = np.argpartition(X[z], k)\n",
    "        r2 = X[z][]\n",
    "        \n",
    "        "
   ]
  },
  {
   "cell_type": "code",
   "execution_count": 179,
   "metadata": {},
   "outputs": [],
   "source": [
    "def k_means_tol_1(X,K,raw_data): # X: d-dimensional obersvation, K: number of clusters\n",
    "    index = np.zeros(len(X)) # index matrix\n",
    "    phi = np.zeros(len(X))\n",
    "    \n",
    "    tol= 10**(-5) #convergence threshold\n",
    "    Y = np.array(random.sample(list(X),K)) # randomly select K oberservation from dataset to set as our initial centers\n",
    "    Y_old = np.zeros(Y.shape) # new centers awaiting assignment\n",
    "    con = np.linalg.norm(Y-Y_old,ord=1) # 1-norm btw Y and Y_new\n",
    "    avg_D=0 # Obj value\n",
    "    colors = ['r', 'g', 'b','y', 'c', 'm','orange','purple'] # color pallete for plotting cluster\n",
    "    \n",
    "    while con > tol:\n",
    "        \n",
    "        \"\"\"\n",
    "        Assign data to the closest center (with label)\n",
    "        \"\"\"\n",
    "        for i in range(len(X)): # for each observation\n",
    "            min=9999\n",
    "            for j in range(0,K): # compare distance with each center\n",
    "                distances = dist(X[i], Y[j])\n",
    "                if distances < min:\n",
    "                    min=distances\n",
    "                    phi[i] = distances # store the distance to the closest center for each observation\n",
    "                    index[i] = j # store the index (label) for each observation to locate its closest center\n",
    "        \n",
    "        Y_old = deepcopy(Y)\n",
    "        \n",
    "        \"\"\"\n",
    "        Compute cluster mean and assign it as the new center\n",
    "        \"\"\"\n",
    "        for j in range (K):\n",
    "            group_data_point=[raw_data[i] for i in range (len(index)) if index[i]==j]\n",
    "            Y[j] = sum(group_data_point)/len(group_data_point)\n",
    "            con = np.linalg.norm(Y-Y_old,ord=1)\n",
    "            #print(con)\n",
    "            \n",
    "        \"\"\"\n",
    "        D (objective value)\n",
    "        \"\"\"\n",
    "        avg_D = sum(phi)/len(phi)\n",
    "    \n",
    "    \"\"\"\n",
    "    Plot with color by clusters\n",
    "    \"\"\"\n",
    "    for z in range (K):\n",
    "        data=np.array([raw_data[i] for i in range (len(index)) if index[i]==z])\n",
    "        #print(data)\n",
    "        plt.scatter(data[:, 0], data[:, 1],s=10, c=colors[z])\n",
    "        plt.scatter(Y[:, 0], Y[:, 1], marker='*', s=150, c='k')\n",
    "        plt.title('Spectral Clustering_K-means (tol= 1e-5, D=%f)'%(avg_D))\n",
    "        plt.savefig('Spectral Clustering_K-means (tol= 1e-5, K=%d, D=%f).png'%(K,avg_D))\n",
    "        \n",
    "    plt.show()\n",
    "    \n",
    "        \n",
    "    return Y,index,avg_D"
   ]
  },
  {
   "cell_type": "code",
   "execution_count": 10,
   "metadata": {},
   "outputs": [],
   "source": [
    "def Spectral_Clustering(X,K,sigma):\n",
    "    \n",
    "    N,d = X.shape\n",
    "    #S = np.zeros((N,N)) # Gaussian Similarity matrix (euclidean) \n",
    "    W = np.zeros((N,N)) # adjacency matrix\n",
    "    C = np.zeros(N)\n",
    "    #Y = \n",
    "    \n",
    "    \"\"\"\n",
    "    S: Similarity matrix: store the gaussian similarity value between each data point\n",
    "    \"\"\"\n",
    "    S=Similarity_Matrix(X,sigma) # Gaussian Similarity matrix (euclidean)\n",
    "        \n",
    "    \"\"\"\n",
    "    A: K-nearest neighborhood structure (knn), in order to determine if there is an edge between nodes or not\n",
    "    \"\"\"\n",
    "    # W = kneighbors_graph(X, n_neighbors=5, metric=S).toarray()\n",
    "    nrst_neigh = NearestNeighbors(n_neighbors = int(N/K), algorithm = 'ball_tree')\n",
    "    nrst_neigh.fit(X)\n",
    "    A = nrst_neigh.kneighbors_graph(X).toarray()\n",
    "    \n",
    "    \n",
    "    \"\"\"\n",
    "    W: Weighted Adjacency Matrix [N*N] --> combine S & A\n",
    "    \"\"\"\n",
    "    for i in range(N):\n",
    "        for j in range (i,N):\n",
    "            if A[i][j]== 1: #there is an edge between node i and j\n",
    "                W[i][j]= S[i][j]\n",
    "                W[j][i]= W[i][j]\n",
    "            else:\n",
    "                W[i][j]= 0\n",
    "                W[j][i]= W[i][j]\n",
    "    \n",
    "    \"\"\"\n",
    "    D matrix [N*N], degreeness\n",
    "    \"\"\"\n",
    "    diag = np.sum(W, axis=1) #sum each value of each row in adjacency matrix\n",
    "    D = np.diag(diag) \n",
    "    \n",
    "    \"\"\"\n",
    "    Liplacian matrix [N*N]\n",
    "    \"\"\"\n",
    "    L = D-W\n",
    "    \n",
    "    \n",
    "    \"\"\"\n",
    "    U: first K eigenvectors [N*K dimension]\n",
    "    \"\"\"\n",
    "    eivals, U = np.linalg.eigh(L)\n",
    "    U=U[:,-K:]\n",
    "    \n",
    "    \n",
    "    input_data = np.array(U)\n",
    "    \"\"\"\n",
    "    Y: cluster points\n",
    "    \"\"\"\n",
    "    \n",
    "    \n",
    "    \n",
    "    \n",
    "    \"\"\"\n",
    "    C: cluster index vector [N*1 dimension]\n",
    "    \n",
    "    for i in range (N):\n",
    "        for j in range (K):\n",
    "            if U[i][j] != 0:\n",
    "                C[i] = j\n",
    "    \"\"\"\n",
    "    \n",
    "    \n",
    "    \n",
    "    #Y,C,D = k_means_tol_1(input_data,K,X)\n",
    "    \n",
    "    \n",
    "    #return S,U,Y,C,D\n",
    "    \n",
    "    return W,U,eivals\n",
    "        "
   ]
  },
  {
   "cell_type": "code",
   "execution_count": 11,
   "metadata": {},
   "outputs": [],
   "source": [
    "W_1,U_1,eigenvals_1 = Spectral_Clustering(data_1,2,1)"
   ]
  },
  {
   "cell_type": "code",
   "execution_count": 16,
   "metadata": {},
   "outputs": [],
   "source": [
    "e_1 = sorted(eigenvals_1)"
   ]
  },
  {
   "cell_type": "code",
   "execution_count": 18,
   "metadata": {},
   "outputs": [
    {
     "data": {
      "text/plain": [
       "[9.776310594622735e-15,\n",
       " 38.28131978864014,\n",
       " 64.33521494036857,\n",
       " 83.15527174535212,\n",
       " 87.29728893004602]"
      ]
     },
     "execution_count": 18,
     "metadata": {},
     "output_type": "execute_result"
    }
   ],
   "source": [
    "e_1[:5]"
   ]
  },
  {
   "cell_type": "code",
   "execution_count": 30,
   "metadata": {},
   "outputs": [],
   "source": [
    "W_2,U_2,eigenvals_2 = Spectral_Clustering(data_2,4,1)"
   ]
  },
  {
   "cell_type": "code",
   "execution_count": 31,
   "metadata": {},
   "outputs": [],
   "source": [
    "e_2 = sorted(eigenvals_2)"
   ]
  },
  {
   "cell_type": "code",
   "execution_count": 32,
   "metadata": {},
   "outputs": [
    {
     "data": {
      "text/plain": [
       "[-2.981099610623809e-13,\n",
       " 30.91518108552902,\n",
       " 48.087860947490064,\n",
       " 92.9776190933201,\n",
       " 150.81781338648318]"
      ]
     },
     "execution_count": 32,
     "metadata": {},
     "output_type": "execute_result"
    }
   ],
   "source": [
    "e_2[:5]"
   ]
  },
  {
   "cell_type": "code",
   "execution_count": 27,
   "metadata": {},
   "outputs": [
    {
     "data": {
      "text/plain": [
       "(2, 2000)"
      ]
     },
     "execution_count": 27,
     "metadata": {},
     "output_type": "execute_result"
    }
   ],
   "source": [
    "Y = np.transpose(U_1)\n",
    "YY=Y[:2]\n",
    "YY.shape\n",
    "Y.shape"
   ]
  },
  {
   "cell_type": "code",
   "execution_count": 28,
   "metadata": {},
   "outputs": [
    {
     "data": {
      "text/plain": [
       "(2000, 2)"
      ]
     },
     "execution_count": 28,
     "metadata": {},
     "output_type": "execute_result"
    }
   ],
   "source": [
    "U_1.shape"
   ]
  },
  {
   "cell_type": "code",
   "execution_count": 29,
   "metadata": {},
   "outputs": [
    {
     "data": {
      "text/plain": [
       "<matplotlib.collections.PathCollection at 0x7fd13a66ccf8>"
      ]
     },
     "execution_count": 29,
     "metadata": {},
     "output_type": "execute_result"
    },
    {
     "data": {
      "image/png": "[encoded data removed]",
      "text/plain": [
       "<Figure size 432x288 with 1 Axes>"
      ]
     },
     "metadata": {
      "needs_background": "light"
     },
     "output_type": "display_data"
    }
   ],
   "source": [
    "plt.scatter(U_1[:,0],U_1[:,1])"
   ]
  },
  {
   "cell_type": "code",
   "execution_count": 190,
   "metadata": {},
   "outputs": [
    {
     "name": "stdout",
     "output_type": "stream",
     "text": [
      "(2000, 2)\n"
     ]
    },
    {
     "data": {
      "text/plain": [
       "<matplotlib.collections.PathCollection at 0x7f8cdbf68550>"
      ]
     },
     "execution_count": 190,
     "metadata": {},
     "output_type": "execute_result"
    },
    {
     "data": {
      "image/png": "[encoded data removed]",
      "text/plain": [
       "<Figure size 432x288 with 1 Axes>"
      ]
     },
     "metadata": {
      "needs_background": "light"
     },
     "output_type": "display_data"
    }
   ],
   "source": [
    "print(U.shape)\n",
    "plt.scatter(U[:, 0], U[:, 1],s=10)\n"
   ]
  },
  {
   "cell_type": "code",
   "execution_count": 188,
   "metadata": {},
   "outputs": [
    {
     "name": "stdout",
     "output_type": "stream",
     "text": [
      "W:  [[1.00000000e+00 7.91367402e-05 3.26429548e-07 ... 0.00000000e+00\n",
      "  0.00000000e+00 0.00000000e+00]\n",
      " [7.91367402e-05 1.00000000e+00 4.07692616e-03 ... 0.00000000e+00\n",
      "  0.00000000e+00 0.00000000e+00]\n",
      " [3.26429548e-07 4.07692616e-03 1.00000000e+00 ... 0.00000000e+00\n",
      "  0.00000000e+00 0.00000000e+00]\n",
      " ...\n",
      " [0.00000000e+00 0.00000000e+00 0.00000000e+00 ... 1.00000000e+00\n",
      "  2.29883738e-11 0.00000000e+00]\n",
      " [0.00000000e+00 0.00000000e+00 0.00000000e+00 ... 2.29883738e-11\n",
      "  1.00000000e+00 0.00000000e+00]\n",
      " [0.00000000e+00 0.00000000e+00 0.00000000e+00 ... 0.00000000e+00\n",
      "  0.00000000e+00 1.00000000e+00]] \n",
      "\n",
      "U:  [[-8.93790389e-19  7.26862001e-29]\n",
      " [ 2.50360332e-18  1.62728413e-17]\n",
      " [-4.72516727e-17  1.58413611e-17]\n",
      " ...\n",
      " [-3.21927759e-13 -1.33310672e-13]\n",
      " [-7.93149775e-08  5.27129120e-10]\n",
      " [-3.35876198e-16 -5.07871294e-16]]\n"
     ]
    }
   ],
   "source": [
    "W,U= Spectral_Clustering(data_1,2,0.25)\n",
    "print(\"W: \",W,\"\\n\\nU: \",U)"
   ]
  },
  {
   "cell_type": "code",
   "execution_count": 172,
   "metadata": {},
   "outputs": [
    {
     "name": "stdout",
     "output_type": "stream",
     "text": [
      "W:  [[1.00000000e+00 0.00000000e+00 0.00000000e+00 ... 0.00000000e+00\n",
      "  0.00000000e+00 0.00000000e+00]\n",
      " [0.00000000e+00 1.00000000e+00 1.45366468e-04 ... 0.00000000e+00\n",
      "  1.50534786e-13 0.00000000e+00]\n",
      " [0.00000000e+00 1.45366468e-04 1.00000000e+00 ... 0.00000000e+00\n",
      "  0.00000000e+00 0.00000000e+00]\n",
      " ...\n",
      " [0.00000000e+00 0.00000000e+00 0.00000000e+00 ... 1.00000000e+00\n",
      "  1.42107593e-04 0.00000000e+00]\n",
      " [0.00000000e+00 1.50534786e-13 0.00000000e+00 ... 1.42107593e-04\n",
      "  1.00000000e+00 0.00000000e+00]\n",
      " [0.00000000e+00 0.00000000e+00 0.00000000e+00 ... 0.00000000e+00\n",
      "  0.00000000e+00 1.00000000e+00]] \n",
      "\n",
      "U:  [[-9.12667514e-14 -3.31215519e-24  1.64747664e-23 -5.40685593e-22]\n",
      " [ 1.33859762e-17  9.47314181e-18  8.30360432e-18  6.14062001e-18]\n",
      " [ 1.26540212e-17 -1.00745973e-17  4.59399706e-18  2.14347775e-17]\n",
      " ...\n",
      " [ 8.63684937e-15 -3.39295231e-15  6.73338017e-16 -1.92449580e-15]\n",
      " [-7.03105109e-17  6.07663183e-18 -5.32695346e-19 -1.79265422e-18]\n",
      " [ 1.63172427e-17  2.26810093e-18  6.60092826e-18 -4.47669870e-18]]\n"
     ]
    }
   ],
   "source": [
    "W,U,Y,C,D= Spectral_Clustering(data_2,4,0.25)\n",
    "print(\"W: \",W,\"\\n\\nU: \",U,\"\\n\\nY: \",Y,\"\\n\\nC: \",C,\"\\n\\nD: \",D)"
   ]
  },
  {
   "cell_type": "code",
   "execution_count": 174,
   "metadata": {},
   "outputs": [
    {
     "data": {
      "text/plain": [
       "array([[-9.12667514e-14, -3.31215519e-24,  1.64747664e-23,\n",
       "        -5.40685593e-22],\n",
       "       [ 1.33859762e-17,  9.47314181e-18,  8.30360432e-18,\n",
       "         6.14062001e-18],\n",
       "       [ 1.26540212e-17, -1.00745973e-17,  4.59399706e-18,\n",
       "         2.14347775e-17],\n",
       "       ...,\n",
       "       [ 8.63684937e-15, -3.39295231e-15,  6.73338017e-16,\n",
       "        -1.92449580e-15],\n",
       "       [-7.03105109e-17,  6.07663183e-18, -5.32695346e-19,\n",
       "        -1.79265422e-18],\n",
       "       [ 1.63172427e-17,  2.26810093e-18,  6.60092826e-18,\n",
       "        -4.47669870e-18]])"
      ]
     },
     "execution_count": 174,
     "metadata": {},
     "output_type": "execute_result"
    }
   ],
   "source": [
    "np.array(U)"
   ]
  },
  {
   "cell_type": "code",
   "execution_count": 173,
   "metadata": {},
   "outputs": [
    {
     "data": {
      "text/plain": [
       "array([[ 2.1865, -1.226 ],\n",
       "       [ 5.9486, -2.3155],\n",
       "       [ 4.9435, -2.7735],\n",
       "       [-1.0944,  1.2621],\n",
       "       [ 3.6613, -3.6604]])"
      ]
     },
     "execution_count": 173,
     "metadata": {},
     "output_type": "execute_result"
    }
   ],
   "source": [
    "data_2[:5]"
   ]
  },
  {
   "cell_type": "code",
   "execution_count": null,
   "metadata": {},
   "outputs": [],
   "source": []
  },
  {
   "cell_type": "code",
   "execution_count": null,
   "metadata": {},
   "outputs": [],
   "source": []
  },
  {
   "cell_type": "code",
   "execution_count": 123,
   "metadata": {},
   "outputs": [
    {
     "data": {
      "text/plain": [
       "(4460, 5)"
      ]
     },
     "execution_count": 123,
     "metadata": {},
     "output_type": "execute_result"
    }
   ],
   "source": [
    "U.shape"
   ]
  },
  {
   "cell_type": "code",
   "execution_count": 120,
   "metadata": {},
   "outputs": [
    {
     "data": {
      "image/png": "[encoded data removed]",
      "text/plain": [
       "<Figure size 432x288 with 1 Axes>"
      ]
     },
     "metadata": {
      "needs_background": "light"
     },
     "output_type": "display_data"
    },
    {
     "data": {
      "text/plain": [
       "(array([[-0.43282777, -3.531065  ],\n",
       "        [ 2.95203638,  4.34063005],\n",
       "        [ 1.37349716, -0.05435036],\n",
       "        [ 5.14428358, -0.59524204],\n",
       "        [-0.6207116 ,  2.3696547 ]]),\n",
       " array([2., 3., 3., ..., 1., 3., 0.]),\n",
       " 1.4431309904404874)"
      ]
     },
     "execution_count": 120,
     "metadata": {},
     "output_type": "execute_result"
    }
   ],
   "source": [
    "k_means_tol_1(data_2,5)"
   ]
  },
  {
   "cell_type": "code",
   "execution_count": null,
   "metadata": {},
   "outputs": [],
   "source": []
  },
  {
   "cell_type": "code",
   "execution_count": 113,
   "metadata": {},
   "outputs": [
    {
     "data": {
      "text/plain": [
       "array([[ 9.49535457e-20,  1.40251758e-09,  4.15196279e-23,\n",
       "         1.77717891e-24, -1.32639704e-24],\n",
       "       [ 1.61041190e-18, -2.97539513e-18,  4.79230340e-18,\n",
       "         7.32360988e-18, -3.28160656e-17],\n",
       "       [-8.17084832e-18, -3.75835136e-17,  1.70349479e-17,\n",
       "        -9.87805117e-18, -1.20309828e-18],\n",
       "       ...,\n",
       "       [-5.63264408e-16, -1.25236193e-15, -3.42169612e-15,\n",
       "         6.83024715e-16, -1.95456889e-15],\n",
       "       [-3.80351009e-17,  1.25062721e-16,  5.06311365e-18,\n",
       "        -2.97623223e-18, -2.56921528e-17],\n",
       "       [-6.40174352e-19,  8.67361738e-19, -1.00654343e-17,\n",
       "        -1.76835089e-19, -1.56560327e-17]])"
      ]
     },
     "execution_count": 113,
     "metadata": {},
     "output_type": "execute_result"
    }
   ],
   "source": [
    "U"
   ]
  },
  {
   "cell_type": "code",
   "execution_count": null,
   "metadata": {},
   "outputs": [],
   "source": [
    "K=5\n",
    "\n",
    "\n",
    "for j in range (K):\n",
    "            group_data_point=[X[i] for i in range (len(index)) if index[i]==j]\n",
    "            Y[j] = sum(group_data_point)/len(group_data_point)\n",
    "            con = np.linalg.norm(Y-Y_old,ord=1)\n",
    "            #print(con)\n",
    "            \n",
    "        \"\"\"\n",
    "        D (objective value)\n",
    "        \"\"\"\n",
    "        avg_D = sum(phi)/len(phi)\n",
    "    \n",
    "    \"\"\"\n",
    "    Plot with color by clusters\n",
    "    \"\"\"\n",
    "    for z in range (K):\n",
    "        data=np.array([X[i] for i in range (len(index)) if index[i]==z])\n",
    "        plt.scatter(data[:, 0], data[:, 1],s=10, c=colors[z])\n",
    "        plt.scatter(Y[:, 0], Y[:, 1], marker='*', s=150, c='k')\n",
    "        plt.title('K-means (tol= 1e-5, D=%f)'%(avg_D))\n",
    "        plt.savefig('K-means (tol= 1e-5, K=%d, D=%f).png'%(K,avg_D))\n",
    "        \n",
    "    plt.show()"
   ]
  },
  {
   "cell_type": "code",
   "execution_count": null,
   "metadata": {},
   "outputs": [],
   "source": []
  },
  {
   "cell_type": "code",
   "execution_count": null,
   "metadata": {},
   "outputs": [],
   "source": []
  },
  {
   "cell_type": "code",
   "execution_count": null,
   "metadata": {},
   "outputs": [],
   "source": []
  },
  {
   "cell_type": "code",
   "execution_count": null,
   "metadata": {},
   "outputs": [],
   "source": []
  },
  {
   "cell_type": "code",
   "execution_count": 93,
   "metadata": {},
   "outputs": [
    {
     "data": {
      "image/png": "[encoded data removed]",
      "text/plain": [
       "<Figure size 432x288 with 1 Axes>"
      ]
     },
     "metadata": {
      "needs_background": "light"
     },
     "output_type": "display_data"
    },
    {
     "data": {
      "text/plain": [
       "(array([[1.00000000e+00, 2.46631799e-14, 1.03615970e-11, ...,\n",
       "         2.60642909e-13, 2.05532314e-12, 1.35614855e-14],\n",
       "        [2.46631799e-14, 1.00000000e+00, 1.45366468e-04, ...,\n",
       "         3.02326127e-17, 1.50534786e-13, 3.05304533e-24],\n",
       "        [1.03615970e-11, 1.45366468e-04, 1.00000000e+00, ...,\n",
       "         1.30736348e-17, 2.64597307e-14, 1.83523241e-20],\n",
       "        ...,\n",
       "        [2.60642909e-13, 3.02326127e-17, 1.30736348e-17, ...,\n",
       "         1.00000000e+00, 1.42107593e-04, 6.29381430e-27],\n",
       "        [2.05532314e-12, 1.50534786e-13, 2.64597307e-14, ...,\n",
       "         1.42107593e-04, 1.00000000e+00, 2.81084248e-26],\n",
       "        [1.35614855e-14, 3.05304533e-24, 1.83523241e-20, ...,\n",
       "         6.29381430e-27, 2.81084248e-26, 1.00000000e+00]]),\n",
       " array([[-7.43851853e-22, -9.13261792e-14, -9.91879901e-23,\n",
       "         -2.01872868e-23,  1.03397577e-25],\n",
       "        [-5.31292427e-19, -1.37701579e-17, -1.86115749e-18,\n",
       "          3.40764168e-17,  1.21537355e-17],\n",
       "        [-1.87310221e-18, -8.57505304e-18, -1.12368352e-18,\n",
       "          2.16163622e-17,  6.87839094e-18],\n",
       "        ...,\n",
       "        [-3.56417487e-18, -1.67644761e-17, -7.78560669e-20,\n",
       "          1.31710363e-18, -5.31516324e-18],\n",
       "        [ 4.71937724e-17, -1.51788304e-18, -1.12477683e-18,\n",
       "          8.39881960e-19, -1.06872532e-18],\n",
       "        [ 1.09638999e-17,  1.25496401e-17,  2.32190909e-18,\n",
       "          1.76351245e-18,  1.82343311e-18]]),\n",
       " array([[ 2.95203638,  4.34063005],\n",
       "        [-0.43282777, -3.531065  ],\n",
       "        [ 1.37349716, -0.05435036],\n",
       "        [-0.6207116 ,  2.3696547 ],\n",
       "        [ 5.14428358, -0.59524204]]),\n",
       " array([2., 4., 4., ..., 0., 4., 1.]),\n",
       " 1.4431309904404874)"
      ]
     },
     "execution_count": 93,
     "metadata": {},
     "output_type": "execute_result"
    }
   ],
   "source": [
    "Spectral_Clustering(data_2,5,0.25)"
   ]
  },
  {
   "cell_type": "code",
   "execution_count": 97,
   "metadata": {},
   "outputs": [
    {
     "ename": "IndexError",
     "evalue": "too many indices for array: array is 1-dimensional, but 2 were indexed",
     "output_type": "error",
     "traceback": [
      "\u001b[0;31m---------------------------------------------------------------------------\u001b[0m",
      "\u001b[0;31mIndexError\u001b[0m                                Traceback (most recent call last)",
      "\u001b[0;32m<ipython-input-97-5438bee330d5>\u001b[0m in \u001b[0;36m<module>\u001b[0;34m\u001b[0m\n\u001b[0;32m----> 1\u001b[0;31m \u001b[0mS\u001b[0m\u001b[0;34m,\u001b[0m\u001b[0mU\u001b[0m\u001b[0;34m,\u001b[0m\u001b[0mY\u001b[0m\u001b[0;34m,\u001b[0m\u001b[0mC\u001b[0m\u001b[0;34m,\u001b[0m\u001b[0mD\u001b[0m \u001b[0;34m=\u001b[0m \u001b[0mSpectral_Clustering\u001b[0m\u001b[0;34m(\u001b[0m\u001b[0mdata_2\u001b[0m\u001b[0;34m,\u001b[0m\u001b[0;36m4\u001b[0m\u001b[0;34m,\u001b[0m\u001b[0;36m0.1\u001b[0m\u001b[0;34m)\u001b[0m\u001b[0;34m\u001b[0m\u001b[0;34m\u001b[0m\u001b[0m\n\u001b[0m",
      "\u001b[0;32m<ipython-input-96-eff50ee35c3e>\u001b[0m in \u001b[0;36mSpectral_Clustering\u001b[0;34m(X, K, sigma)\u001b[0m\n\u001b[1;32m     29\u001b[0m     \u001b[0mU\u001b[0m\u001b[0;34m=\u001b[0m\u001b[0mU\u001b[0m\u001b[0;34m[\u001b[0m\u001b[0;34m:\u001b[0m\u001b[0;34m,\u001b[0m\u001b[0;34m-\u001b[0m\u001b[0mK\u001b[0m\u001b[0;34m:\u001b[0m\u001b[0;34m]\u001b[0m\u001b[0;34m\u001b[0m\u001b[0;34m\u001b[0m\u001b[0m\n\u001b[1;32m     30\u001b[0m \u001b[0;34m\u001b[0m\u001b[0m\n\u001b[0;32m---> 31\u001b[0;31m     \u001b[0mY\u001b[0m\u001b[0;34m,\u001b[0m\u001b[0mC\u001b[0m\u001b[0;34m,\u001b[0m\u001b[0mD\u001b[0m \u001b[0;34m=\u001b[0m \u001b[0mk_means_tol_1\u001b[0m\u001b[0;34m(\u001b[0m\u001b[0mU\u001b[0m\u001b[0;34m,\u001b[0m\u001b[0mK\u001b[0m\u001b[0;34m)\u001b[0m\u001b[0;34m\u001b[0m\u001b[0;34m\u001b[0m\u001b[0m\n\u001b[0m\u001b[1;32m     32\u001b[0m \u001b[0;34m\u001b[0m\u001b[0m\n\u001b[1;32m     33\u001b[0m \u001b[0;34m\u001b[0m\u001b[0m\n",
      "\u001b[0;32m<ipython-input-85-107e2fc8bad2>\u001b[0m in \u001b[0;36mk_means_tol_1\u001b[0;34m(X, K)\u001b[0m\n\u001b[1;32m     45\u001b[0m     \u001b[0;32mfor\u001b[0m \u001b[0mz\u001b[0m \u001b[0;32min\u001b[0m \u001b[0mrange\u001b[0m \u001b[0;34m(\u001b[0m\u001b[0mK\u001b[0m\u001b[0;34m)\u001b[0m\u001b[0;34m:\u001b[0m\u001b[0;34m\u001b[0m\u001b[0;34m\u001b[0m\u001b[0m\n\u001b[1;32m     46\u001b[0m         \u001b[0mdata\u001b[0m\u001b[0;34m=\u001b[0m\u001b[0mnp\u001b[0m\u001b[0;34m.\u001b[0m\u001b[0marray\u001b[0m\u001b[0;34m(\u001b[0m\u001b[0;34m[\u001b[0m\u001b[0mX\u001b[0m\u001b[0;34m[\u001b[0m\u001b[0mi\u001b[0m\u001b[0;34m]\u001b[0m \u001b[0;32mfor\u001b[0m \u001b[0mi\u001b[0m \u001b[0;32min\u001b[0m \u001b[0mrange\u001b[0m \u001b[0;34m(\u001b[0m\u001b[0mlen\u001b[0m\u001b[0;34m(\u001b[0m\u001b[0mindex\u001b[0m\u001b[0;34m)\u001b[0m\u001b[0;34m)\u001b[0m \u001b[0;32mif\u001b[0m \u001b[0mindex\u001b[0m\u001b[0;34m[\u001b[0m\u001b[0mi\u001b[0m\u001b[0;34m]\u001b[0m\u001b[0;34m==\u001b[0m\u001b[0mz\u001b[0m\u001b[0;34m]\u001b[0m\u001b[0;34m)\u001b[0m\u001b[0;34m\u001b[0m\u001b[0;34m\u001b[0m\u001b[0m\n\u001b[0;32m---> 47\u001b[0;31m         \u001b[0mplt\u001b[0m\u001b[0;34m.\u001b[0m\u001b[0mscatter\u001b[0m\u001b[0;34m(\u001b[0m\u001b[0mdata\u001b[0m\u001b[0;34m[\u001b[0m\u001b[0;34m:\u001b[0m\u001b[0;34m,\u001b[0m \u001b[0;36m0\u001b[0m\u001b[0;34m]\u001b[0m\u001b[0;34m,\u001b[0m \u001b[0mdata\u001b[0m\u001b[0;34m[\u001b[0m\u001b[0;34m:\u001b[0m\u001b[0;34m,\u001b[0m \u001b[0;36m1\u001b[0m\u001b[0;34m]\u001b[0m\u001b[0;34m,\u001b[0m\u001b[0ms\u001b[0m\u001b[0;34m=\u001b[0m\u001b[0;36m10\u001b[0m\u001b[0;34m,\u001b[0m \u001b[0mc\u001b[0m\u001b[0;34m=\u001b[0m\u001b[0mcolors\u001b[0m\u001b[0;34m[\u001b[0m\u001b[0mz\u001b[0m\u001b[0;34m]\u001b[0m\u001b[0;34m)\u001b[0m\u001b[0;34m\u001b[0m\u001b[0;34m\u001b[0m\u001b[0m\n\u001b[0m\u001b[1;32m     48\u001b[0m         \u001b[0mplt\u001b[0m\u001b[0;34m.\u001b[0m\u001b[0mscatter\u001b[0m\u001b[0;34m(\u001b[0m\u001b[0mY\u001b[0m\u001b[0;34m[\u001b[0m\u001b[0;34m:\u001b[0m\u001b[0;34m,\u001b[0m \u001b[0;36m0\u001b[0m\u001b[0;34m]\u001b[0m\u001b[0;34m,\u001b[0m \u001b[0mY\u001b[0m\u001b[0;34m[\u001b[0m\u001b[0;34m:\u001b[0m\u001b[0;34m,\u001b[0m \u001b[0;36m1\u001b[0m\u001b[0;34m]\u001b[0m\u001b[0;34m,\u001b[0m \u001b[0mmarker\u001b[0m\u001b[0;34m=\u001b[0m\u001b[0;34m'*'\u001b[0m\u001b[0;34m,\u001b[0m \u001b[0ms\u001b[0m\u001b[0;34m=\u001b[0m\u001b[0;36m150\u001b[0m\u001b[0;34m,\u001b[0m \u001b[0mc\u001b[0m\u001b[0;34m=\u001b[0m\u001b[0;34m'k'\u001b[0m\u001b[0;34m)\u001b[0m\u001b[0;34m\u001b[0m\u001b[0;34m\u001b[0m\u001b[0m\n\u001b[1;32m     49\u001b[0m         \u001b[0mplt\u001b[0m\u001b[0;34m.\u001b[0m\u001b[0mtitle\u001b[0m\u001b[0;34m(\u001b[0m\u001b[0;34m'K-means (tol= 1e-5, D=%f)'\u001b[0m\u001b[0;34m%\u001b[0m\u001b[0;34m(\u001b[0m\u001b[0mavg_D\u001b[0m\u001b[0;34m)\u001b[0m\u001b[0;34m)\u001b[0m\u001b[0;34m\u001b[0m\u001b[0;34m\u001b[0m\u001b[0m\n",
      "\u001b[0;31mIndexError\u001b[0m: too many indices for array: array is 1-dimensional, but 2 were indexed"
     ]
    },
    {
     "data": {
      "image/png": "[encoded data removed]",
      "text/plain": [
       "<Figure size 432x288 with 1 Axes>"
      ]
     },
     "metadata": {
      "needs_background": "light"
     },
     "output_type": "display_data"
    }
   ],
   "source": [
    "S,U,Y,C,D = Spectral_Clustering(data_2,4,0.1)"
   ]
  },
  {
   "cell_type": "code",
   "execution_count": null,
   "metadata": {},
   "outputs": [],
   "source": []
  },
  {
   "cell_type": "code",
   "execution_count": 92,
   "metadata": {},
   "outputs": [
    {
     "data": {
      "image/png": "[encoded data removed]",
      "text/plain": [
       "<Figure size 432x288 with 1 Axes>"
      ]
     },
     "metadata": {
      "needs_background": "light"
     },
     "output_type": "display_data"
    }
   ],
   "source": [
    "S,U,Y,C,D=Spectral_Clustering(data_1,4,0.5)"
   ]
  },
  {
   "cell_type": "code",
   "execution_count": null,
   "metadata": {},
   "outputs": [],
   "source": []
  },
  {
   "cell_type": "code",
   "execution_count": null,
   "metadata": {},
   "outputs": [],
   "source": []
  },
  {
   "cell_type": "code",
   "execution_count": null,
   "metadata": {},
   "outputs": [],
   "source": []
  },
  {
   "cell_type": "code",
   "execution_count": null,
   "metadata": {},
   "outputs": [],
   "source": []
  },
  {
   "cell_type": "code",
   "execution_count": null,
   "metadata": {},
   "outputs": [],
   "source": []
  },
  {
   "cell_type": "code",
   "execution_count": 57,
   "metadata": {},
   "outputs": [],
   "source": [
    "S=Similarity_Matrix(data_1,0.5)"
   ]
  },
  {
   "cell_type": "code",
   "execution_count": 71,
   "metadata": {},
   "outputs": [
    {
     "data": {
      "text/plain": [
       "array([[0., 0., 0., ..., 0., 0., 0.],\n",
       "       [0., 0., 0., ..., 0., 0., 0.],\n",
       "       [0., 0., 0., ..., 0., 0., 0.],\n",
       "       ...,\n",
       "       [0., 0., 0., ..., 0., 0., 0.],\n",
       "       [0., 0., 0., ..., 0., 0., 0.],\n",
       "       [0., 0., 0., ..., 0., 0., 0.]])"
      ]
     },
     "execution_count": 71,
     "metadata": {},
     "output_type": "execute_result"
    }
   ],
   "source": [
    "W = kneighbors_graph(data_1, n_neighbors=10).toarray()\n",
    "W"
   ]
  },
  {
   "cell_type": "code",
   "execution_count": 77,
   "metadata": {},
   "outputs": [
    {
     "data": {
      "text/plain": [
       "array([[1.00000000e+00, 9.43179905e-02, 2.39027223e-02, ...,\n",
       "        3.49127018e-07, 1.07331026e-04, 2.92179391e-06],\n",
       "       [9.43179905e-02, 1.00000000e+00, 2.52687182e-01, ...,\n",
       "        6.36544465e-08, 2.50708322e-05, 2.05529093e-06],\n",
       "       [2.39027223e-02, 2.52687182e-01, 1.00000000e+00, ...,\n",
       "        2.06078887e-08, 8.70488606e-06, 1.24982946e-06],\n",
       "       ...,\n",
       "       [3.49127018e-07, 6.36544465e-08, 2.06078887e-08, ...,\n",
       "        1.00000000e+00, 2.18966191e-03, 6.85734413e-05],\n",
       "       [1.07331026e-04, 2.50708322e-05, 8.70488606e-06, ...,\n",
       "        2.18966191e-03, 1.00000000e+00, 1.49965854e-03],\n",
       "       [2.92179391e-06, 2.05529093e-06, 1.24982946e-06, ...,\n",
       "        6.85734413e-05, 1.49965854e-03, 1.00000000e+00]])"
      ]
     },
     "execution_count": 77,
     "metadata": {},
     "output_type": "execute_result"
    }
   ],
   "source": [
    "S"
   ]
  },
  {
   "cell_type": "code",
   "execution_count": 76,
   "metadata": {},
   "outputs": [
    {
     "data": {
      "text/plain": [
       "array([[ 7.03987510e+01, -9.43179905e-02, -2.39027223e-02, ...,\n",
       "        -3.49127018e-07, -1.07331026e-04, -2.92179391e-06],\n",
       "       [-9.43179905e-02,  7.88359084e+01, -2.52687182e-01, ...,\n",
       "        -6.36544465e-08, -2.50708322e-05, -2.05529093e-06],\n",
       "       [-2.39027223e-02, -2.52687182e-01,  6.33390013e+01, ...,\n",
       "        -2.06078887e-08, -8.70488606e-06, -1.24982946e-06],\n",
       "       ...,\n",
       "       [-3.49127018e-07, -6.36544465e-08, -2.06078887e-08, ...,\n",
       "         1.97889112e+01, -2.18966191e-03, -6.85734413e-05],\n",
       "       [-1.07331026e-04, -2.50708322e-05, -8.70488606e-06, ...,\n",
       "        -2.18966191e-03,  1.38405642e+02, -1.49965854e-03],\n",
       "       [-2.92179391e-06, -2.05529093e-06, -1.24982946e-06, ...,\n",
       "        -6.85734413e-05, -1.49965854e-03,  9.68477458e+00]])"
      ]
     },
     "execution_count": 76,
     "metadata": {},
     "output_type": "execute_result"
    }
   ],
   "source": [
    "diag = np.sum(S, axis=1)\n",
    "diag.shape\n",
    "D= np.diag(diag)\n",
    "L = D-S\n",
    "L"
   ]
  },
  {
   "cell_type": "code",
   "execution_count": 78,
   "metadata": {},
   "outputs": [
    {
     "data": {
      "text/plain": [
       "array([[-2.23606798e-02,  5.91463149e-04, -4.70805551e-03, ...,\n",
       "        -1.02052359e-11,  4.39889536e-11, -1.77193336e-11],\n",
       "       [-2.23606798e-02,  7.02383090e-04, -4.85311406e-03, ...,\n",
       "        -4.52080140e-13, -4.36824280e-12,  5.31786575e-13],\n",
       "       [-2.23606798e-02,  7.84998056e-04, -5.06309509e-03, ...,\n",
       "        -4.56076493e-14, -2.19148611e-12,  4.27065736e-13],\n",
       "       ...,\n",
       "       [-2.23606798e-02, -1.77340017e-03,  6.52216657e-03, ...,\n",
       "        -5.71015667e-10, -6.12901444e-09,  1.69075653e-08],\n",
       "       [-2.23606798e-02, -1.59734051e-03,  5.60214274e-03, ...,\n",
       "         9.07936114e-06, -2.91911117e-05,  1.25950426e-05],\n",
       "       [-2.23606798e-02, -1.77388213e-03,  6.55077068e-03, ...,\n",
       "         3.81973405e-09,  1.06740122e-09,  3.82112075e-09]])"
      ]
     },
     "execution_count": 78,
     "metadata": {},
     "output_type": "execute_result"
    }
   ],
   "source": [
    "eivals, U = np.linalg.eigh(L)\n",
    "U"
   ]
  },
  {
   "cell_type": "code",
   "execution_count": 79,
   "metadata": {},
   "outputs": [
    {
     "data": {
      "text/plain": [
       "(2000, 2000)"
      ]
     },
     "execution_count": 79,
     "metadata": {},
     "output_type": "execute_result"
    }
   ],
   "source": [
    "U.shape"
   ]
  },
  {
   "cell_type": "code",
   "execution_count": 84,
   "metadata": {},
   "outputs": [
    {
     "data": {
      "text/plain": [
       "array([[ 4.39889536e-11, -1.77193336e-11],\n",
       "       [-4.36824280e-12,  5.31786575e-13],\n",
       "       [-2.19148611e-12,  4.27065736e-13],\n",
       "       ...,\n",
       "       [-6.12901444e-09,  1.69075653e-08],\n",
       "       [-2.91911117e-05,  1.25950426e-05],\n",
       "       [ 1.06740122e-09,  3.82112075e-09]])"
      ]
     },
     "execution_count": 84,
     "metadata": {},
     "output_type": "execute_result"
    }
   ],
   "source": [
    "U[:,-2:]"
   ]
  },
  {
   "cell_type": "code",
   "execution_count": 102,
   "metadata": {},
   "outputs": [
    {
     "data": {
      "text/plain": [
       "array([[1., 1., 1., ..., 0., 0., 0.],\n",
       "       [1., 1., 1., ..., 0., 0., 0.],\n",
       "       [1., 1., 1., ..., 0., 0., 0.],\n",
       "       ...,\n",
       "       [0., 0., 0., ..., 1., 1., 0.],\n",
       "       [0., 0., 0., ..., 0., 1., 0.],\n",
       "       [0., 0., 0., ..., 0., 1., 1.]])"
      ]
     },
     "execution_count": 102,
     "metadata": {},
     "output_type": "execute_result"
    }
   ],
   "source": [
    "from sklearn.neighbors import NearestNeighbors\n",
    "import numpy as np\n",
    "\n",
    "nrst_neigh = NearestNeighbors(n_neighbors = 1000, algorithm = 'ball_tree')\n",
    "nrst_neigh.fit(data_1)\n",
    "nrst_neigh.kneighbors_graph(data_1).toarray()"
   ]
  },
  {
   "cell_type": "code",
   "execution_count": 103,
   "metadata": {},
   "outputs": [
    {
     "data": {
      "text/plain": [
       "(2000, 2000)"
      ]
     },
     "execution_count": 103,
     "metadata": {},
     "output_type": "execute_result"
    }
   ],
   "source": [
    "n=nrst_neigh.kneighbors_graph(data_1).toarray()\n",
    "n.shape"
   ]
  },
  {
   "cell_type": "code",
   "execution_count": null,
   "metadata": {},
   "outputs": [],
   "source": []
  }
 ],
 "metadata": {
  "kernelspec": {
   "display_name": "Python 3",
   "language": "python",
   "name": "python3"
  },
  "language_info": {
   "codemirror_mode": {
    "name": "ipython",
    "version": 3
   },
   "file_extension": ".py",
   "mimetype": "text/x-python",
   "name": "python",
   "nbconvert_exporter": "python",
   "pygments_lexer": "ipython3",
   "version": "3.7.3"
  }
 },
 "nbformat": 4,
 "nbformat_minor": 2
}
